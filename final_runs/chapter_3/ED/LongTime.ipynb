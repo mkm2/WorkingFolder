{
 "cells": [
  {
   "cell_type": "code",
   "execution_count": 2,
   "metadata": {},
   "outputs": [],
   "source": [
    "import numpy as np\n",
    "import matplotlib.pyplot as plt\n",
    "import matplotlib.cm as mplcm\n",
    "import matplotlib.colors as colors\n",
    "from scipy.optimize import curve_fit\n",
    "import h5py\n",
    "from pathlib import Path\n",
    "from collections.abc import Iterable"
   ]
  },
  {
   "cell_type": "code",
   "execution_count": 3,
   "metadata": {},
   "outputs": [],
   "source": [
    "datapath = Path.cwd() / \"data\""
   ]
  },
  {
   "cell_type": "code",
   "execution_count": 4,
   "metadata": {},
   "outputs": [],
   "source": [
    "def rearrange_data(arr): #\n",
    "    res = np.swapaxes(arr,-1,0)\n",
    "    res = np.swapaxes(res,-2,1)\n",
    "    return res\n",
    "\n",
    "def disorder_mean(A, n_samples = None):\n",
    "    if n_samples is None:\n",
    "        return np.mean(A,2)\n",
    "    else:\n",
    "        return np.mean(A[:,:,0:n_samples],2)\n",
    "\n",
    "def disorder_std(A, n_samples = None):\n",
    "    if n_samples is None:\n",
    "        return np.std(A,2)\n",
    "    else:\n",
    "        return np.std(A[:,:,0:n_samples],2)"
   ]
  },
  {
   "cell_type": "code",
   "execution_count": 5,
   "metadata": {},
   "outputs": [],
   "source": [
    "def idx_transgression(arr,threshold):\n",
    "    idx = np.zeros(arr.shape[1],dtype=int)\n",
    "    for j in range(arr.shape[1]):\n",
    "        found = False\n",
    "        for i in range(arr.shape[0]):\n",
    "            if found == False and arr[i,j] >= threshold:\n",
    "                idx[j] = i\n",
    "                found = True\n",
    "        if found == False:\n",
    "            idx[j] = -1 #be careful that this never breaks things\n",
    "    return idx\n",
    "\n",
    "def safeguard_minusone(idx):\n",
    "    res = np.zeros(idx.shape[0],dtype=float)\n",
    "    for i in range(idx.shape[0]):\n",
    "        res[i] = idx[i] if idx[i] != -1 else np.nan\n",
    "    return res\n",
    "\n",
    "def mask_transgression(arr,threshold):\n",
    "    mask = np.zeros(arr.shape,dtype=bool)\n",
    "    idx = idx_transgression(arr,threshold)\n",
    "    for j in range(arr.shape[1]):\n",
    "        if idx[j] != -1:\n",
    "            mask[idx[j],j]=True\n",
    "    return mask\n",
    "\n",
    "def T_transgression(T,arr,threshold):\n",
    "    idx = idx_transgression(arr,threshold)\n",
    "    t_past = T[idx]\n",
    "    t_before = T[[i-1 if i > 0 else 0 for i in idx]]\n",
    "    arr_past = np.zeros(arr.shape[1])\n",
    "    arr_before = np.zeros(arr.shape[1])\n",
    "    t_th = np.zeros(arr.shape[1])\n",
    "    for j in range(0,arr.shape[1]):\n",
    "        arr_past[j] = arr[idx[j],j]\n",
    "        arr_before[j] = arr[idx[j]-1 if idx[j] > 0 else 0,j]\n",
    "\n",
    "        t_th[j] = (threshold-arr_before[j])/(arr_past[j]-arr_before[j]) * (t_past[j]-t_before[j]) + t_before[j]\n",
    "    return t_th"
   ]
  },
  {
   "cell_type": "code",
   "execution_count": 7,
   "metadata": {},
   "outputs": [],
   "source": [
    "jobids = []\n",
    "params = []\n",
    "data = []\n",
    "N = 13\n",
    "folder_xx = datapath/\"xx\"\n",
    "folder_zz = datapath/\"zz\"\n",
    "files_xx = [\"7365605_N13_ED.jld2\",\"7365606_N13_ED.jld2\",\"7365607_N13_ED.jld2\",\"7365608_N13_ED.jld2\"]\n",
    "for (i,file) in enumerate(files_xx):\n",
    "    with h5py.File(folder_xx/file,\"r\") as f:\n",
    "            jobids.append(f[\"jobid\"][()].decode(\"UTF-8\"))\n",
    "            data.append(2-2*rearrange_data(f[\"data\"][()]))\n",
    "            params.append(f[\"params\"][()])\n",
    "#for  i in range(1,len(files)):\n",
    " #       data[i] = np.concatenate(data[i],axis=2)\n",
    "#T = np.arange(0,2.01,0.01)\n",
    "xcenter = N//2"
   ]
  },
  {
   "cell_type": "code",
   "execution_count": 8,
   "metadata": {},
   "outputs": [],
   "source": [
    "T = 10 ** np.linspace(-3,1,100)\n",
    "xcenter = N//2\n",
    "x = np.arange(0,N//2+1,1)"
   ]
  },
  {
   "cell_type": "code",
   "execution_count": 11,
   "metadata": {},
   "outputs": [],
   "source": [
    "res_xx = data[0][:,:,0]\n",
    "res_xx_nn = data[1][:,:,0]\n",
    "red_xx = np.zeros((res_xx.shape[0],N//2+1))\n",
    "red_xx_nn = np.zeros((res_xx_nn.shape[0],N//2+1))\n",
    "\n",
    "res_xxpbc = data[2][:,:,0]\n",
    "res_xx_nnpbc = data[3][:,:,0]\n",
    "red_xxpbc = np.zeros((res_xxpbc.shape[0],N//2+1))\n",
    "red_xx_nnpbc = np.zeros((res_xx_nnpbc.shape[0],N//2+1))\n",
    "\n",
    "for j in range(0,N//2):\n",
    "    red_xx[:,j] = 0.5*(res_xx[:,j]+res_xx[:,N-j-1])\n",
    "    red_xx_nn[:,j] = 0.5*(res_xx_nn[:,j]+res_xx_nn[:,N-j-1])\n",
    "    red_xxpbc[:,j] = 0.5*(res_xxpbc[:,j]+res_xxpbc[:,N-j-1])\n",
    "    red_xx_nnpbc[:,j] = 0.5*(res_xx_nnpbc[:,j]+res_xx_nnpbc[:,N-j-1])\n",
    "red_xx[:,N//2] = res_xx[:,N//2]\n",
    "red_xx_nn[:,N//2] = res_xx_nn[:,N//2]\n",
    "red_xxpbc[:,N//2] = res_xxpbc[:,N//2]\n",
    "red_xx_nnpbc[:,N//2] = res_xx_nnpbc[:,N//2]"
   ]
  },
  {
   "cell_type": "code",
   "execution_count": null,
   "metadata": {},
   "outputs": [],
   "source": []
  }
 ],
 "metadata": {
  "kernelspec": {
   "display_name": "Python 3.8.10 ('max1')",
   "language": "python",
   "name": "python3"
  },
  "language_info": {
   "codemirror_mode": {
    "name": "ipython",
    "version": 3
   },
   "file_extension": ".py",
   "mimetype": "text/x-python",
   "name": "python",
   "nbconvert_exporter": "python",
   "pygments_lexer": "ipython3",
   "version": "3.8.10"
  },
  "orig_nbformat": 4,
  "vscode": {
   "interpreter": {
    "hash": "d29350a6bd2c0e4cce46a26c702715ba22f84c6b6dcaac8062c229e7dc4c461f"
   }
  }
 },
 "nbformat": 4,
 "nbformat_minor": 2
}
