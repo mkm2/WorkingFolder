{
 "cells": [
  {
   "cell_type": "code",
   "execution_count": 1,
   "metadata": {},
   "outputs": [],
   "source": [
    "import numpy as np\n",
    "import matplotlib.pyplot as plt\n",
    "import matplotlib.cm as mplcm\n",
    "import matplotlib.colors as colors\n",
    "from scipy.optimize import curve_fit\n",
    "import h5py\n",
    "from pathlib import Path\n",
    "from collections.abc import Iterable"
   ]
  },
  {
   "cell_type": "code",
   "execution_count": 2,
   "metadata": {},
   "outputs": [],
   "source": [
    "datapath = Path.cwd() / \"data\"\n",
    "figurepath = Path.cwd().parent / \"figures\""
   ]
  },
  {
   "cell_type": "code",
   "execution_count": 3,
   "metadata": {},
   "outputs": [],
   "source": [
    "W = 5.88    # Figure width in inches, approximately A4-width - 2*1.25in margin\n",
    "plt.rcParams.update({\n",
    "    'figure.figsize': (W, W),#/(4/3)),     # 1:1 aspect ratio\n",
    "    'font.size' : 11,                   # Set font size to 11pt\n",
    "    'axes.labelsize': 11,               # -> axis labels\n",
    "    'legend.fontsize': 10,              # -> legends\n",
    "    'font.family': 'lmodern',\n",
    "    'text.usetex': True,\n",
    "    'text.latex.preamble': (            # LaTeX preamble\n",
    "        r'\\usepackage{lmodern}'\n",
    "        # ... more packages if needed\n",
    "    )\n",
    "})"
   ]
  },
  {
   "cell_type": "code",
   "execution_count": 4,
   "metadata": {},
   "outputs": [],
   "source": [
    "def set_size(width='thesis', fraction=1, subplots=(1, 1)):\n",
    "    \"\"\"Set figure dimensions to avoid scaling in LaTeX.\n",
    "\n",
    "    Parameters\n",
    "    ----------\n",
    "    width: float or string\n",
    "            Document width in points, or string of predined document type\n",
    "    fraction: float, optional\n",
    "            Fraction of the width which you wish the figure to occupy\n",
    "    subplots: array-like, optional\n",
    "            The number of rows and columns of subplots.\n",
    "    Returns\n",
    "    -------\n",
    "    fig_dim: tuple\n",
    "            Dimensions of figure in inches\n",
    "    \"\"\"\n",
    "    if width == 'thesis':\n",
    "        width_pt = 426.79135\n",
    "    elif width == 'beamer':\n",
    "        width_pt = 307.28987\n",
    "    else:\n",
    "        width_pt = width\n",
    "\n",
    "    # Width of figure (in pts)\n",
    "    fig_width_pt = width_pt * fraction\n",
    "    # Convert from pt to inches\n",
    "    inches_per_pt = 1 / 72.27\n",
    "\n",
    "    # Golden ratio to set aesthetic figure height\n",
    "    # https://disq.us/p/2940ij3\n",
    "    aspect_ratio = 1#(5**.5 - 1) / 2\n",
    "\n",
    "    # Figure width in inches\n",
    "    fig_width_in = fig_width_pt * inches_per_pt\n",
    "    # Figure height in inches\n",
    "    fig_height_in = fig_width_in * aspect_ratio * (subplots[0] / subplots[1])\n",
    "\n",
    "    return (fig_width_in, fig_height_in)\n"
   ]
  },
  {
   "cell_type": "code",
   "execution_count": 5,
   "metadata": {},
   "outputs": [],
   "source": [
    "def rearrange_data(arr): #\n",
    "    res = np.swapaxes(arr,-1,0)\n",
    "    res = np.swapaxes(res,-2,1)\n",
    "    return res\n",
    "\n",
    "def disorder_mean(A, n_samples = None):\n",
    "    if n_samples is None:\n",
    "        return np.mean(A,2)\n",
    "    else:\n",
    "        return np.mean(A[:,:,0:n_samples],2)\n",
    "\n",
    "def disorder_std(A, n_samples = None):\n",
    "    if n_samples is None:\n",
    "        return np.std(A,2)\n",
    "    else:\n",
    "        return np.std(A[:,:,0:n_samples],2)"
   ]
  },
  {
   "cell_type": "code",
   "execution_count": 6,
   "metadata": {},
   "outputs": [],
   "source": [
    "def idx_transgression(arr,threshold):\n",
    "    idx = np.zeros(arr.shape[1],dtype=int)\n",
    "    for j in range(arr.shape[1]):\n",
    "        found = False\n",
    "        for i in range(arr.shape[0]):\n",
    "            if found == False and arr[i,j] >= threshold:\n",
    "                idx[j] = i\n",
    "                found = True\n",
    "        if found == False:\n",
    "            idx[j] = -1 #be careful that this never breaks things\n",
    "    return idx\n",
    "\n",
    "def safeguard_minusone(idx):\n",
    "    res = np.zeros(idx.shape[0],dtype=float)\n",
    "    for i in range(idx.shape[0]):\n",
    "        res[i] = idx[i] if idx[i] != -1 else np.nan\n",
    "    return res\n",
    "\n",
    "def mask_transgression(arr,threshold):\n",
    "    mask = np.zeros(arr.shape,dtype=bool)\n",
    "    idx = idx_transgression(arr,threshold)\n",
    "    for j in range(arr.shape[1]):\n",
    "        if idx[j] != -1:\n",
    "            mask[idx[j],j]=True\n",
    "    return mask\n",
    "\n",
    "def T_transgression(T,arr,threshold):\n",
    "    idx = idx_transgression(arr,threshold)\n",
    "    t_past = T[idx]\n",
    "    t_before = T[[i-1 if i > 0 else 0 for i in idx]]\n",
    "    arr_past = np.zeros(arr.shape[1])\n",
    "    arr_before = np.zeros(arr.shape[1])\n",
    "    t_th = np.zeros(arr.shape[1])\n",
    "    for j in range(0,arr.shape[1]):\n",
    "        arr_past[j] = arr[idx[j],j]\n",
    "        arr_before[j] = arr[idx[j]-1 if idx[j] > 0 else 0,j]\n",
    "\n",
    "        t_th[j] = (threshold-arr_before[j])/(arr_past[j]-arr_before[j]) * (t_past[j]-t_before[j]) + t_before[j]\n",
    "    return t_th\n",
    "\n",
    "def symmetrize(arr):\n",
    "    N = arr.shape[1]\n",
    "    symarr = np.zeros((arr.shape[0],N//2+1))\n",
    "    for j in range(0,N//2):\n",
    "        symarr[:,j] = 0.5*(arr[:,j]+arr[:,N-j-1])\n",
    "    symarr[:,N//2] = arr[:,N//2]\n",
    "    return symarr"
   ]
  },
  {
   "cell_type": "code",
   "execution_count": 7,
   "metadata": {},
   "outputs": [],
   "source": [
    "jobids = []\n",
    "params = []\n",
    "data = []\n",
    "folder = datapath/\"sectors\"\n",
    "files = [\"1286{}_N15_ED.jld2\".format(i) for i in range(79,89)]+[\"129519_N15_ED.jld2\"]+[\"1286{}_N15_ED.jld2\".format(i) for i in range(90,95)]+[\"138729_N15_ED.jld2\"]\n",
    "for (i,file) in enumerate(files):\n",
    "    with h5py.File(folder/file,\"r\") as f:\n",
    "            jobids.append(f[\"jobid\"][()].decode(\"UTF-8\"))\n",
    "            data.append(2-2*rearrange_data(f[\"data\"][()]))\n",
    "            params.append(f[\"params\"][()])\n",
    "#for  i in range(1,len(files)):\n",
    " #       data[i] = np.concatenate(data[i],axis=2)\n",
    "#T = np.arange(0,2.01,0.01)"
   ]
  },
  {
   "cell_type": "markdown",
   "metadata": {},
   "source": [
    "k down spins"
   ]
  },
  {
   "cell_type": "code",
   "execution_count": 8,
   "metadata": {},
   "outputs": [],
   "source": [
    "N = 15\n",
    "T = 10 ** np.linspace(-3,6,100)\n",
    "xcenter = N//2\n",
    "x = np.arange(0,N//2+1,1)\n",
    "rvals = np.array([abs(pos-xcenter) for pos in range(0,N)])\n",
    "dims = {0:1,\n",
    "        1:15,\n",
    "        2:105,\n",
    "        3:455,\n",
    "        4:1365,\n",
    "        5:3003,\n",
    "        6:5005,\n",
    "        7:6435,\n",
    "        8:6435,\n",
    "        9:5005,\n",
    "        10:3003,\n",
    "        11:1365,\n",
    "        12:455,\n",
    "        13:105,\n",
    "        14:15,\n",
    "        15:1}"
   ]
  },
  {
   "cell_type": "code",
   "execution_count": 9,
   "metadata": {},
   "outputs": [],
   "source": [
    "mags = np.zeros(N+1)\n",
    "for k in range(N+1):\n",
    "    mags[k] = k * (-1) + (N-k) * 1"
   ]
  },
  {
   "cell_type": "code",
   "execution_count": 10,
   "metadata": {},
   "outputs": [],
   "source": [
    "res = [data[i][:,:,0] for i in range(N+1)]\n",
    "res_total = data[-1][:,:,0]\n",
    "red = list(map(symmetrize,res))\n",
    "red_total = symmetrize(res_total)"
   ]
  },
  {
   "cell_type": "code",
   "execution_count": 11,
   "metadata": {},
   "outputs": [
    {
     "data": {
      "text/plain": [
       "0.0001520524312424624"
      ]
     },
     "execution_count": 11,
     "metadata": {},
     "output_type": "execute_result"
    }
   ],
   "source": [
    "means = np.zeros(N+1)\n",
    "errs = np.zeros(N+1)\n",
    "for k in range(N+1):\n",
    "    means[k] = np.mean(red[k][66:])\n",
    "    errs[k] = (np.std(red[k][66:],ddof=1))\n",
    "\n",
    "#mean over above values\n",
    "mean = 0\n",
    "for k in range(N):\n",
    "    mean += np.mean(red[k][66:])*dims[k]\n",
    "mean = mean/2**N\n",
    "err = 0\n",
    "for k in range(N):\n",
    "    err += (np.std(red[k][66:],ddof=1)*dims[k]/np.sqrt(34*8))**2\n",
    "err = np.sqrt(err)/2**N\n",
    "err"
   ]
  },
  {
   "cell_type": "code",
   "execution_count": 12,
   "metadata": {},
   "outputs": [],
   "source": [
    "norms = {0: 0.0,\n",
    "1: 0.2666666666666667,\n",
    "2: 0.49523809523809514,\n",
    "3: 0.6857142857142857,\n",
    "4: 0.8380952380952381,\n",
    "5: 0.9523809523809523,\n",
    "6: 1.0285714285714285,\n",
    "7: 1.0666666666666667,\n",
    "8: 1.0666666666666667,\n",
    "9: 1.0285714285714285,\n",
    "10: 0.9523809523809523,\n",
    "11: 0.8380952380952381,\n",
    "12: 0.6857142857142857,\n",
    "13: 0.49523809523809514,\n",
    "14: 0.2666666666666667,\n",
    "15: 0.0\n",
    "}"
   ]
  },
  {
   "cell_type": "code",
   "execution_count": 13,
   "metadata": {},
   "outputs": [],
   "source": [
    "mags2 = np.zeros(19+1)\n",
    "for k in range(19+1):\n",
    "    mags2[k] = k * (-1) + (19-k) * 1\n",
    "norms2= {0: 0.0,\n",
    "1: 0.21052631578947373,\n",
    "2: 0.39766081871345027,\n",
    "3: 0.5614035087719298,\n",
    "4: 0.7017543859649122,\n",
    "5: 0.8187134502923975,\n",
    "6: 0.9122807017543859,\n",
    "7: 0.9824561403508774,\n",
    "8: 1.0292397660818715,\n",
    "9: 1.0526315789473684,\n",
    "10: 1.0526315789473684,\n",
    "11: 1.0292397660818715,\n",
    "12: 0.9824561403508774,\n",
    "13: 0.9122807017543859,\n",
    "14: 0.8187134502923975,\n",
    "15: 0.7017543859649122,\n",
    "16: 0.5614035087719298,\n",
    "17: 0.39766081871345027,\n",
    "18: 0.21052631578947373,\n",
    "19: 0.0}"
   ]
  },
  {
   "cell_type": "code",
   "execution_count": 14,
   "metadata": {},
   "outputs": [],
   "source": [
    "mags3 = np.zeros(25+1)\n",
    "for k in range(25+1):\n",
    "    mags3[k] = k * (-1) + (25-k) * 1\n",
    "norms3= {0: 0.0,\n",
    "1: 0.16000000000000003,\n",
    "2: 0.30666666666666664,\n",
    "3: 0.44,\n",
    "4: 0.56,\n",
    "5: 0.6666666666666666,\n",
    "6: 0.76,\n",
    "7: 0.84,\n",
    "8: 0.9066666666666666,\n",
    "9: 0.96,\n",
    "10: 1.0,\n",
    "11: 1.0266666666666668,\n",
    "12: 1.04,\n",
    "13: 1.04,\n",
    "14: 1.0266666666666668,\n",
    "15: 1.0,\n",
    "16: 0.96,\n",
    "17: 0.9066666666666666,\n",
    "18: 0.84,\n",
    "19: 0.76,\n",
    "20: 0.6666666666666666,\n",
    "21: 0.56,\n",
    "22: 0.44,\n",
    "23: 0.30666666666666664,\n",
    "24: 0.16000000000000003,\n",
    "25: 0.0}\n"
   ]
  },
  {
   "cell_type": "code",
   "execution_count": 32,
   "metadata": {},
   "outputs": [
    {
     "data": {
      "image/png": "[encoded data removed]",
      "text/plain": [
       "<Figure size 590.551x590.551 with 2 Axes>"
      ]
     },
     "metadata": {},
     "output_type": "display_data"
    }
   ],
   "source": [
    "fig = plt.figure(figsize=set_size())\n",
    "ax = fig.add_subplot(111)\n",
    "axr = ax.twinx()\n",
    "ax.plot(mags/15,list(map(lambda x: 2*x,norms.values())),c=\"black\",label=\"restricted Frobenius norm\")\n",
    "ax.errorbar(mags/15,means,yerr=errs,capsize=3,c=\"C0\",label = r\"late time value of $C_z$\")\n",
    "ax.plot(mags/15,mean*np.ones(N+1),c=\"C0\",ls=\"dashed\")\n",
    "axr.plot(mags/15,2*np.ones(N+1),c=\"black\",ls=\"dotted\")\n",
    "ax.set_xlabel(\"Magnetisation\")\n",
    "ax.set_ylabel(r\"$\\mathrm{C_z(t\\rightarrow\\infty)}$\")\n",
    "ax.set_xlim(-1,1)\n",
    "ax.set_ylim(0,2.25)\n",
    "ax.legend(loc = \"best\")\n",
    "axr.set_ylim(0,2.25)\n",
    "axr.set_ylabel(r\"$\\|\\mathsf{R_k}\\left(\\hat{\\sigma}_i^x\\hat{\\sigma}_{i+r}^x+\\hat{\\sigma}_i^x\\hat{\\sigma}_{i+r}^y\\right)\\|_F^2$\")\n",
    "\n",
    "plt.savefig(figurepath/\"sectors_zz.pdf\",format=\"pdf\",bbox_inches='tight',dpi=600)\n",
    "plt.show()"
   ]
  },
  {
   "cell_type": "code",
   "execution_count": 18,
   "metadata": {},
   "outputs": [
    {
     "data": {
      "text/latex": [
       "\\hat{\\sigma}\n"
      ],
      "text/plain": [
       "<IPython.core.display.Latex object>"
      ]
     },
     "metadata": {},
     "output_type": "display_data"
    }
   ],
   "source": [
    "%%latex\n",
    "\\hat{\\sigma}"
   ]
  },
  {
   "cell_type": "code",
   "execution_count": 27,
   "metadata": {},
   "outputs": [
    {
     "data": {
      "text/plain": [
       "1.757575733796922"
      ]
     },
     "execution_count": 27,
     "metadata": {},
     "output_type": "execute_result"
    }
   ],
   "source": [
    "np.mean(red_total[66:])"
   ]
  },
  {
   "cell_type": "code",
   "execution_count": 32,
   "metadata": {},
   "outputs": [
    {
     "data": {
      "text/plain": [
       "0.0001520524312424624"
      ]
     },
     "execution_count": 32,
     "metadata": {},
     "output_type": "execute_result"
    }
   ],
   "source": [
    "err"
   ]
  },
  {
   "cell_type": "code",
   "execution_count": null,
   "metadata": {},
   "outputs": [],
   "source": []
  }
 ],
 "metadata": {
  "kernelspec": {
   "display_name": "Python 3.8.10 ('max1')",
   "language": "python",
   "name": "python3"
  },
  "language_info": {
   "codemirror_mode": {
    "name": "ipython",
    "version": 3
   },
   "file_extension": ".py",
   "mimetype": "text/x-python",
   "name": "python",
   "nbconvert_exporter": "python",
   "pygments_lexer": "ipython3",
   "version": "3.8.10"
  },
  "orig_nbformat": 4,
  "vscode": {
   "interpreter": {
    "hash": "fc74d5b34fbb35dd1e61e1426654be3784a79a42d5a6bdb3df2cd53d5ca06bd5"
   }
  }
 },
 "nbformat": 4,
 "nbformat_minor": 2
}
