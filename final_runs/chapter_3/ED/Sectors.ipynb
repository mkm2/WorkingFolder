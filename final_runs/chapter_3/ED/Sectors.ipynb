{
 "cells": [
  {
   "cell_type": "code",
   "execution_count": 1,
   "metadata": {},
   "outputs": [],
   "source": [
    "import numpy as np\n",
    "import matplotlib.pyplot as plt\n",
    "import matplotlib.cm as mplcm\n",
    "import matplotlib.colors as colors\n",
    "from scipy.optimize import curve_fit\n",
    "import h5py\n",
    "from pathlib import Path\n",
    "from collections.abc import Iterable"
   ]
  },
  {
   "cell_type": "code",
   "execution_count": 2,
   "metadata": {},
   "outputs": [],
   "source": [
    "datapath = Path.cwd() / \"data\"\n",
    "figurepath = Path.cwd().parent / \"figures\""
   ]
  },
  {
   "cell_type": "code",
   "execution_count": 3,
   "metadata": {},
   "outputs": [],
   "source": [
    "W = 5.88    # Figure width in inches, approximately A4-width - 2*1.25in margin\n",
    "plt.rcParams.update({\n",
    "    'figure.figsize': (W, W),#/(4/3)),     # 1:1 aspect ratio\n",
    "    'font.size' : 11,                   # Set font size to 11pt\n",
    "    'axes.labelsize': 11,               # -> axis labels\n",
    "    'legend.fontsize': 10,              # -> legends\n",
    "    'font.family': 'lmodern',\n",
    "    'text.usetex': True,\n",
    "    'text.latex.preamble': (            # LaTeX preamble\n",
    "        r'\\usepackage{lmodern}'\n",
    "        # ... more packages if needed\n",
    "    )\n",
    "})"
   ]
  },
  {
   "cell_type": "code",
   "execution_count": 4,
   "metadata": {},
   "outputs": [],
   "source": [
    "def set_size(width='thesis', fraction=1, subplots=(1, 1)):\n",
    "    \"\"\"Set figure dimensions to avoid scaling in LaTeX.\n",
    "\n",
    "    Parameters\n",
    "    ----------\n",
    "    width: float or string\n",
    "            Document width in points, or string of predined document type\n",
    "    fraction: float, optional\n",
    "            Fraction of the width which you wish the figure to occupy\n",
    "    subplots: array-like, optional\n",
    "            The number of rows and columns of subplots.\n",
    "    Returns\n",
    "    -------\n",
    "    fig_dim: tuple\n",
    "            Dimensions of figure in inches\n",
    "    \"\"\"\n",
    "    if width == 'thesis':\n",
    "        width_pt = 426.79135\n",
    "    elif width == 'beamer':\n",
    "        width_pt = 307.28987\n",
    "    else:\n",
    "        width_pt = width\n",
    "\n",
    "    # Width of figure (in pts)\n",
    "    fig_width_pt = width_pt * fraction\n",
    "    # Convert from pt to inches\n",
    "    inches_per_pt = 1 / 72.27\n",
    "\n",
    "    # Golden ratio to set aesthetic figure height\n",
    "    # https://disq.us/p/2940ij3\n",
    "    aspect_ratio = 1#(5**.5 - 1) / 2\n",
    "\n",
    "    # Figure width in inches\n",
    "    fig_width_in = fig_width_pt * inches_per_pt\n",
    "    # Figure height in inches\n",
    "    fig_height_in = fig_width_in * aspect_ratio * (subplots[0] / subplots[1])\n",
    "\n",
    "    return (fig_width_in, fig_height_in)\n"
   ]
  },
  {
   "cell_type": "code",
   "execution_count": 5,
   "metadata": {},
   "outputs": [],
   "source": [
    "def rearrange_data(arr): #\n",
    "    res = np.swapaxes(arr,-1,0)\n",
    "    res = np.swapaxes(res,-2,1)\n",
    "    return res\n",
    "\n",
    "def disorder_mean(A, n_samples = None):\n",
    "    if n_samples is None:\n",
    "        return np.mean(A,2)\n",
    "    else:\n",
    "        return np.mean(A[:,:,0:n_samples],2)\n",
    "\n",
    "def disorder_std(A, n_samples = None):\n",
    "    if n_samples is None:\n",
    "        return np.std(A,2)\n",
    "    else:\n",
    "        return np.std(A[:,:,0:n_samples],2)"
   ]
  },
  {
   "cell_type": "code",
   "execution_count": 37,
   "metadata": {},
   "outputs": [],
   "source": [
    "def idx_transgression(arr,threshold):\n",
    "    idx = np.zeros(arr.shape[1],dtype=int)\n",
    "    for j in range(arr.shape[1]):\n",
    "        found = False\n",
    "        for i in range(arr.shape[0]):\n",
    "            if found == False and arr[i,j] >= threshold:\n",
    "                idx[j] = i\n",
    "                found = True\n",
    "        if found == False:\n",
    "            idx[j] = -1 #be careful that this never breaks things\n",
    "    return idx\n",
    "\n",
    "def safeguard_minusone(idx):\n",
    "    res = np.zeros(idx.shape[0],dtype=float)\n",
    "    for i in range(idx.shape[0]):\n",
    "        res[i] = idx[i] if idx[i] != -1 else np.nan\n",
    "    return res\n",
    "\n",
    "def mask_transgression(arr,threshold):\n",
    "    mask = np.zeros(arr.shape,dtype=bool)\n",
    "    idx = idx_transgression(arr,threshold)\n",
    "    for j in range(arr.shape[1]):\n",
    "        if idx[j] != -1:\n",
    "            mask[idx[j],j]=True\n",
    "    return mask\n",
    "\n",
    "def T_transgression(T,arr,threshold):\n",
    "    idx = idx_transgression(arr,threshold)\n",
    "    t_past = T[idx]\n",
    "    t_before = T[[i-1 if i > 0 else 0 for i in idx]]\n",
    "    arr_past = np.zeros(arr.shape[1])\n",
    "    arr_before = np.zeros(arr.shape[1])\n",
    "    t_th = np.zeros(arr.shape[1])\n",
    "    for j in range(0,arr.shape[1]):\n",
    "        arr_past[j] = arr[idx[j],j]\n",
    "        arr_before[j] = arr[idx[j]-1 if idx[j] > 0 else 0,j]\n",
    "\n",
    "        t_th[j] = (threshold-arr_before[j])/(arr_past[j]-arr_before[j]) * (t_past[j]-t_before[j]) + t_before[j]\n",
    "    return t_th\n",
    "\n",
    "def symmetrize(arr):\n",
    "    N = arr.shape[1]\n",
    "    symarr = np.zeros((arr.shape[0],N//2+1))\n",
    "    for j in range(0,N//2):\n",
    "        symarr[:,j] = 0.5*(arr[:,j]+arr[:,N-j-1])\n",
    "    symarr[:,N//2] = arr[:,N//2]\n",
    "    return symarr"
   ]
  },
  {
   "cell_type": "code",
   "execution_count": null,
   "metadata": {},
   "outputs": [],
   "source": []
  },
  {
   "cell_type": "code",
   "execution_count": 38,
   "metadata": {},
   "outputs": [],
   "source": [
    "jobids = []\n",
    "params = []\n",
    "data = []\n",
    "folder = datapath/\"sectors\"\n",
    "files = [\"1286{}_N15_ED.jld2\".format(i) for i in range(79,89)]+[\"129519_N15_ED.jld2\"]+[\"1286{}_N15_ED.jld2\".format(i) for i in range(90,95)]+[\"130717_N15_ED.jld2\"]\n",
    "for (i,file) in enumerate(files):\n",
    "    with h5py.File(folder/file,\"r\") as f:\n",
    "            jobids.append(f[\"jobid\"][()].decode(\"UTF-8\"))\n",
    "            data.append(2-2*rearrange_data(f[\"data\"][()]))\n",
    "            params.append(f[\"params\"][()])\n",
    "#for  i in range(1,len(files)):\n",
    " #       data[i] = np.concatenate(data[i],axis=2)\n",
    "#T = np.arange(0,2.01,0.01)"
   ]
  },
  {
   "cell_type": "code",
   "execution_count": 39,
   "metadata": {},
   "outputs": [],
   "source": [
    "N = 15\n",
    "T = 10 ** np.linspace(-3,6,100)\n",
    "xcenter = N//2\n",
    "x = np.arange(0,N//2+1,1)\n",
    "rvals = np.array([abs(pos-xcenter) for pos in range(0,N)])\n",
    "dims = {0:1,\n",
    "        1:15,\n",
    "        2:105,\n",
    "        3:455,\n",
    "        4:1365,\n",
    "        5:3003,\n",
    "        6:5005,\n",
    "        7:6435,\n",
    "        8:6435,\n",
    "        9:5005,\n",
    "        10:3003,\n",
    "        11:1365,\n",
    "        12:455,\n",
    "        13:105,\n",
    "        14:15,\n",
    "        15:1}"
   ]
  },
  {
   "cell_type": "code",
   "execution_count": 44,
   "metadata": {},
   "outputs": [],
   "source": [
    "res = [data[i][:,:,0] for i in range(N+1)]\n",
    "res_total = data[-1][:,:,0]\n",
    "red = list(map(symmetrize,res))\n",
    "red_total = symmetrize(res_total)"
   ]
  },
  {
   "cell_type": "code",
   "execution_count": 46,
   "metadata": {},
   "outputs": [
    {
     "name": "stdout",
     "output_type": "stream",
     "text": [
      "k=0, d=1: 0.00\n",
      "\n",
      "k=1, d=15: 0.14\n",
      "\n",
      "k=2, d=105: 0.43\n",
      "\n",
      "k=3, d=455: 0.82\n",
      "\n",
      "k=4, d=1365: 1.22\n",
      "\n",
      "k=5, d=3003: 1.58\n",
      "\n",
      "k=6, d=5005: 1.84\n",
      "\n",
      "k=7, d=6435: 1.98\n",
      "\n",
      "k=8, d=6435: 1.98\n",
      "\n",
      "k=9, d=5005: 1.84\n",
      "\n",
      "k=10, d=3003: 1.58\n",
      "\n",
      "k=11, d=1365: 1.22\n",
      "\n",
      "k=12, d=455: 0.82\n",
      "\n",
      "k=13, d=105: 0.43\n",
      "\n",
      "k=14, d=15: 0.13\n",
      "\n"
     ]
    }
   ],
   "source": [
    "for k in range(N):\n",
    "    print(\"k={}, d={}: {:.2f}\\n\".format(k,dims[k],np.mean(red[k][66:])))"
   ]
  },
  {
   "cell_type": "code",
   "execution_count": 47,
   "metadata": {},
   "outputs": [
    {
     "data": {
      "text/plain": [
       "1.7590174733625457"
      ]
     },
     "execution_count": 47,
     "metadata": {},
     "output_type": "execute_result"
    }
   ],
   "source": [
    "mean = 0\n",
    "for k in range(N):\n",
    "    mean += np.mean(red[k][66:])*dims[k]\n",
    "mean = mean/2**N\n",
    "mean"
   ]
  },
  {
   "cell_type": "code",
   "execution_count": 52,
   "metadata": {},
   "outputs": [
    {
     "data": {
      "text/plain": [
       "0.0001520524312424624"
      ]
     },
     "execution_count": 52,
     "metadata": {},
     "output_type": "execute_result"
    }
   ],
   "source": [
    "err = 0\n",
    "for k in range(N):\n",
    "    err += (np.std(red[k][66:],ddof=1)*dims[k]/np.sqrt(34*8))**2\n",
    "err = np.sqrt(err)/2**N\n",
    "err"
   ]
  },
  {
   "cell_type": "code",
   "execution_count": 51,
   "metadata": {},
   "outputs": [
    {
     "data": {
      "text/plain": [
       "0.005679806687327357"
      ]
     },
     "execution_count": 51,
     "metadata": {},
     "output_type": "execute_result"
    }
   ],
   "source": [
    "np.mean(red_total[66:])\n",
    "np.std(red_total[66:],ddof=1)/np.sqrt(34*8)"
   ]
  },
  {
   "cell_type": "code",
   "execution_count": 64,
   "metadata": {},
   "outputs": [
    {
     "data": {
      "text/plain": [
       "[<matplotlib.lines.Line2D at 0x7f19f4db1a00>,\n",
       " <matplotlib.lines.Line2D at 0x7f19f4db1b80>,\n",
       " <matplotlib.lines.Line2D at 0x7f19f4db1bb0>,\n",
       " <matplotlib.lines.Line2D at 0x7f19f4db1ca0>,\n",
       " <matplotlib.lines.Line2D at 0x7f19f4db1d90>,\n",
       " <matplotlib.lines.Line2D at 0x7f19f4db1e80>,\n",
       " <matplotlib.lines.Line2D at 0x7f19f4db1f70>,\n",
       " <matplotlib.lines.Line2D at 0x7f19f4dbd0a0>]"
      ]
     },
     "execution_count": 64,
     "metadata": {},
     "output_type": "execute_result"
    },
    {
     "data": {
      "image/png": "[encoded data removed]",
      "text/plain": [
       "<Figure size 588x588 with 1 Axes>"
      ]
     },
     "metadata": {},
     "output_type": "display_data"
    }
   ],
   "source": [
    "plt.semilogx(T[:],red_total[:])"
   ]
  },
  {
   "cell_type": "code",
   "execution_count": null,
   "metadata": {},
   "outputs": [],
   "source": []
  }
 ],
 "metadata": {
  "kernelspec": {
   "display_name": "Python 3.8.10 ('max1')",
   "language": "python",
   "name": "python3"
  },
  "language_info": {
   "codemirror_mode": {
    "name": "ipython",
    "version": 3
   },
   "file_extension": ".py",
   "mimetype": "text/x-python",
   "name": "python",
   "nbconvert_exporter": "python",
   "pygments_lexer": "ipython3",
   "version": "3.8.10"
  },
  "orig_nbformat": 4,
  "vscode": {
   "interpreter": {
    "hash": "fc74d5b34fbb35dd1e61e1426654be3784a79a42d5a6bdb3df2cd53d5ca06bd5"
   }
  }
 },
 "nbformat": 4,
 "nbformat_minor": 2
}
