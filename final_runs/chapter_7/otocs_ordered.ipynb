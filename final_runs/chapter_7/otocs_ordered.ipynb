{
 "cells": [
  {
   "cell_type": "code",
   "execution_count": 1,
   "metadata": {},
   "outputs": [],
   "source": [
    "import numpy as np\n",
    "import matplotlib.pyplot as plt\n",
    "import matplotlib.cm as mplcm\n",
    "import matplotlib.gridspec as gridspec\n",
    "import matplotlib.colors as colors\n",
    "import matplotlib.lines as mlines\n",
    "from scipy.optimize import curve_fit\n",
    "from scipy.stats import sem\n",
    "import h5py\n",
    "from pathlib import Path\n",
    "from collections.abc import Iterable\n",
    "from matplotlib.colors import LogNorm"
   ]
  },
  {
   "cell_type": "code",
   "execution_count": 2,
   "metadata": {},
   "outputs": [],
   "source": [
    "datapath = Path.cwd() / \"data/with_otocs/\"\n",
    "figurepath = Path.cwd().parent / \"figures\""
   ]
  },
  {
   "cell_type": "code",
   "execution_count": 3,
   "metadata": {},
   "outputs": [],
   "source": [
    "W = 5.88    # Figure width in inches, approximately A4-width - 2*1.25in margin\n",
    "plt.rcParams.update({\n",
    "    'figure.figsize': (W, W),#/(4/3)),     # 1:1 aspect ratio\n",
    "    'font.size' : 11,                   # Set font size to 11pt\n",
    "    'axes.labelsize': 11,               # -> axis labels\n",
    "    'legend.fontsize': 10,              # -> legends\n",
    "    'font.family': 'lmodern',\n",
    "    'text.usetex': True,\n",
    "    'text.latex.preamble': (            # LaTeX preamble\n",
    "        r'\\usepackage{lmodern}'\n",
    "        # ... more packages if needed\n",
    "    )\n",
    "})"
   ]
  },
  {
   "cell_type": "code",
   "execution_count": 4,
   "metadata": {},
   "outputs": [],
   "source": [
    "def set_size(width='thesis', fraction=1, subplots=(1, 1),aspect_ratio=1):\n",
    "    \"\"\"Set figure dimensions to avoid scaling in LaTeX.\n",
    "\n",
    "    Parameters\n",
    "    ----------\n",
    "    width: float or string\n",
    "            Document width in points, or string of predined document type\n",
    "    fraction: float, optional\n",
    "            Fraction of the width which you wish the figure to occupy\n",
    "    subplots: array-like, optional\n",
    "            The number of rows and columns of subplots.\n",
    "    Returns\n",
    "    -------\n",
    "    fig_dim: tuple\n",
    "            Dimensions of figure in inches\n",
    "    \"\"\"\n",
    "    if width == 'thesis':\n",
    "        width_pt = 426.79135\n",
    "    elif width == 'beamer':\n",
    "        width_pt = 307.28987\n",
    "    else:\n",
    "        width_pt = width\n",
    "\n",
    "    # Width of figure (in pts)\n",
    "    fig_width_pt = width_pt * fraction\n",
    "    # Convert from pt to inches\n",
    "    inches_per_pt = 1 / 72.27\n",
    "\n",
    "    # Golden ratio to set aesthetic figure height\n",
    "    # https://disq.us/p/2940ij3\n",
    "    #aspect_ratio = 1#(5**.5 - 1) / 2\n",
    "\n",
    "    # Figure width in inches\n",
    "    fig_width_in = fig_width_pt * inches_per_pt\n",
    "    # Figure height in inches\n",
    "    fig_height_in = fig_width_in * aspect_ratio * (subplots[0] / subplots[1])\n",
    "\n",
    "    return (fig_width_in, fig_height_in)\n"
   ]
  },
  {
   "cell_type": "code",
   "execution_count": null,
   "metadata": {},
   "outputs": [],
   "source": [
    "np"
   ]
  },
  {
   "cell_type": "code",
   "execution_count": 90,
   "metadata": {},
   "outputs": [],
   "source": [
    "def rearrange_data(arr): #\n",
    "    res = np.swapaxes(arr,-1,-2)\n",
    "    #res = np.swapaxes(arr,-2,0)\n",
    "    return res[:,:,0]\n",
    "def rearrange_data_oto(arr):\n",
    "    res = np.swapaxes(arr,0,-1)\n",
    "    return res[:,0,:,:]"
   ]
  },
  {
   "cell_type": "code",
   "execution_count": 104,
   "metadata": {},
   "outputs": [],
   "source": [
    "fids = []\n",
    "otoFl = []\n",
    "ototrue = []\n",
    "folders = [datapath/\"WAHUHA/N = 11\",datapath/\"WAHUHA/N = 13\",\n",
    "            datapath/\"Rhim/N = 11\",datapath/\"Rhim/N = 13\",\n",
    "            datapath/\"WAHUHACS/N = 11\",datapath/\"WAHUHACS/N = 13\",\n",
    "            datapath/\"RhimCS/N = 11\",datapath/\"RhimCS/N = 13\"]\n",
    "cycles = [1,5,10,50,100,500,1000]\n",
    "# files = [[\"4682{}_N11_BS.jld2\".format(i) for i in range(88,95)],\n",
    "#         [\"468{}_N12_BS.jld2\".format(i) for i in range(295,308)],\n",
    "#         [\"4683{}_N13_BS.jld2\".format(i) for i in range(9,23)],\n",
    "\n",
    "#         [\"4683{}_N11_BS.jld2\".format(i) for i in range(23,30)],\n",
    "#         [\"4683{}_N12_BS.jld2\".format(i) for i in range(30,44)],\n",
    "#         [\"4683{}_N13_BS.jld2\".format(i) for i in range(44,58)],\n",
    "\n",
    "#         [\"4683{}_N11_BS.jld2\".format(i) for i in range(58,65)],\n",
    "#         [\"4683{}_N12_BS.jld2\".format(i) for i in range(65,79)],\n",
    "#         [\"4683{}_N13_BS.jld2\".format(i) for i in range(79,93)],\n",
    "\n",
    "#         [\"4683{}_N11_BS.jld2\".format(i) for i in range(93,100)],\n",
    "#         [\"46840{}_N12_BS.jld2\".format(i) for i in range(0,10)]+[\"4684{}_N12_BS.jld2\".format(i) for i in range(10,14)],\n",
    "#         [\"4684{}_N13_BS.jld2\".format(i) for i in range(14,28)]\n",
    "#]\n",
    "files = [[\"510486_N11_BS.jld2\",\"510487_N11_BS.jld2\",\"510488_N11_BS.jld2\"],\n",
    "        [\"510498_N13_BS.jld2\",\"510502_N13_BS.jld2\"],\n",
    "        \n",
    "        [\"510497_N11_BS.jld2\",\"510496_N11_BS.jld2\",\"510495_N11_BS.jld2\"],\n",
    "        [\"510500_N13_BS.jld2\",\"510505_N13_BS.jld2\"],\n",
    "        \n",
    "        [\"510491_N11_BS.jld2\",\"510490_N11_BS.jld2\"],\n",
    "        [\"510499_N13_BS.jld2\",\"510503_N13_BS.jld2\"],\n",
    "        \n",
    "        [\"510492_N11_BS.jld2\",\"510493_N11_BS.jld2\",\"510494_N11_BS.jld2\"],\n",
    "        [\"510501_N13_BS.jld2\",\"510504_N13_BS.jld2\"]\n",
    "        ]\n",
    "Njs = [3,2,3,2,2,2,3,2] \n",
    "for i in range(len(folders)):\n",
    "    fids.append([])\n",
    "    otoFl.append([])\n",
    "    ototrue.append([])\n",
    "    for j in range(Njs[i]):\n",
    "        try:\n",
    "            with h5py.File(folders[i]/files[i][j],\"r\") as f:\n",
    "                fids[i].append(np.asarray(f[\"fidelities\"][()]))\n",
    "                otoFl[i].append(np.asarray(f[\"otocs\"][()]))\n",
    "                ototrue[i].append(np.asarray(f[\"true_otocs\"][()]))\n",
    "        except:\n",
    "            print(folders[i]/files[i][j])\n",
    "\n",
    "fids11W = fids[0]\n",
    "for j in range(Njs[0]):\n",
    "    fids11W[j] = np.swapaxes(rearrange_data(fids11W[j]),0,1)\n",
    "fids11R = fids[2]\n",
    "for j in range(Njs[2]):\n",
    "    fids11R[j] = np.swapaxes(rearrange_data(fids11R[j]),0,1)\n",
    "fids11WCS = fids[4]\n",
    "for j in range(Njs[4]):\n",
    "    fids11WCS[j] = np.swapaxes(rearrange_data(fids11WCS[j]),0,1)\n",
    "fids11RCS = fids[6]\n",
    "for j in range(Njs[6]):\n",
    "    fids11RCS[j] = np.swapaxes(rearrange_data(fids11RCS[j]),0,1)\n",
    "\n",
    "fids13W = fids[1]\n",
    "for j in range(Njs[1]):\n",
    "    fids13W[j] = np.swapaxes(rearrange_data(fids13W[j]),0,1)\n",
    "fids13R = fids[3]\n",
    "for j in range(Njs[3]):\n",
    "    fids13R[j] = np.swapaxes(rearrange_data(fids13R[j]),0,1)\n",
    "fids13WCS = fids[5]\n",
    "for j in range(Njs[5]):\n",
    "    fids13WCS[j] = np.swapaxes(rearrange_data(fids13WCS[j]),0,1)\n",
    "fids13RCS = fids[7]\n",
    "for j in range(Njs[7]):\n",
    "    fids13RCS[j] = np.swapaxes(rearrange_data(fids13RCS[j]),0,1)\n",
    "\n",
    "#######\n",
    "\n",
    "otoFl11W = otoFl[0]\n",
    "for j in range(Njs[0]):\n",
    "    otoFl11W[j] = rearrange_data_oto(otoFl11W[j])\n",
    "otoFl11R = otoFl[2]\n",
    "for j in range(Njs[2]):\n",
    "    otoFl11R[j] = rearrange_data_oto(otoFl11R[j])\n",
    "otoFl11WCS = otoFl[4]\n",
    "for j in range(Njs[4]):\n",
    "    otoFl11WCS[j] = rearrange_data_oto(otoFl11WCS[j])\n",
    "otoFl11RCS = otoFl[6]\n",
    "for j in range(Njs[6]):\n",
    "    otoFl11RCS[j] = rearrange_data_oto(otoFl11RCS[j])\n",
    "\n",
    "otoFl13W = otoFl[1]\n",
    "for j in range(Njs[1]):\n",
    "    otoFl13W[j] = rearrange_data_oto(otoFl13W[j])\n",
    "otoFl13R = otoFl[3]\n",
    "for j in range(Njs[3]):\n",
    "    otoFl13R[j] = rearrange_data_oto(otoFl13R[j])\n",
    "otoFl13WCS = otoFl[5]\n",
    "for j in range(Njs[5]):\n",
    "    otoFl13WCS[j] = rearrange_data_oto(otoFl13WCS[j])\n",
    "otoFl13RCS = otoFl[7]\n",
    "for j in range(Njs[7]):\n",
    "    otoFl13RCS[j] = rearrange_data_oto(otoFl13RCS[j])\n",
    "\n",
    "\n",
    "#######\n",
    "\n",
    "ototrue11W = ototrue[0]\n",
    "for j in range(Njs[0]):\n",
    "    ototrue11W[j] = 2*np.ones((200,11,50))-2*rearrange_data_oto(ototrue11W[j])\n",
    "ototrue11R = ototrue[2]\n",
    "for j in range(Njs[2]):\n",
    "    ototrue11R[j] = 2*np.ones((200,11,50))-2*rearrange_data_oto(ototrue11R[j])\n",
    "ototrue11WCS = ototrue[4]\n",
    "for j in range(Njs[4]):\n",
    "    ototrue11WCS[j] = 2*np.ones((200,11,50))-2*rearrange_data_oto(ototrue11WCS[j])\n",
    "ototrue11RCS = ototrue[6]\n",
    "for j in range(Njs[6]):\n",
    "    ototrue11RCS[j] = 2*np.ones((200,11,50))-2*rearrange_data_oto(ototrue11RCS[j])\n",
    "\n",
    "ototrue13W = ototrue[1]\n",
    "for j in range(Njs[1]):\n",
    "    ototrue13W[j] = 2*np.ones((200,13,25))-2*rearrange_data_oto(ototrue13W[j])\n",
    "ototrue13R = ototrue[3]\n",
    "for j in range(Njs[3]):\n",
    "    ototrue13R[j] = 2*np.ones((200,13,25))-2*rearrange_data_oto(ototrue13R[j])\n",
    "ototrue13WCS = ototrue[5]\n",
    "for j in range(Njs[5]):\n",
    "    ototrue13WCS[j] = 2*np.ones((200,13,25))-2*rearrange_data_oto(ototrue13WCS[j])\n",
    "ototrue13RCS = ototrue[7]\n",
    "for j in range(Njs[7]):\n",
    "    ototrue13RCS[j] = 2*np.ones((200,13,25))-2*rearrange_data_oto(ototrue13RCS[j])"
   ]
  },
  {
   "cell_type": "code",
   "execution_count": 5,
   "metadata": {},
   "outputs": [],
   "source": [
    "ns = [100,500,1000]\n",
    "T = np.arange(0.1,20.1,0.1)\n",
    "Nstates11 = 50"
   ]
  },
  {
   "cell_type": "code",
   "execution_count": 14,
   "metadata": {},
   "outputs": [
    {
     "data": {
      "text/plain": [
       "100.0"
      ]
     },
     "execution_count": 14,
     "metadata": {},
     "output_type": "execute_result"
    }
   ],
   "source": [
    "tc = 0.5 * 1e-6\n",
    "t = 10 * 1e-6\n",
    "n = 5*t/tc\n",
    "n"
   ]
  },
  {
   "cell_type": "code",
   "execution_count": 17,
   "metadata": {},
   "outputs": [
    {
     "data": {
      "text/plain": [
       "50.0"
      ]
     },
     "execution_count": 17,
     "metadata": {},
     "output_type": "execute_result"
    }
   ],
   "source": [
    "5*t/1000 *1e9"
   ]
  },
  {
   "cell_type": "code",
   "execution_count": 10,
   "metadata": {},
   "outputs": [
    {
     "data": {
      "text/plain": [
       "2500.0"
      ]
     },
     "execution_count": 10,
     "metadata": {},
     "output_type": "execute_result"
    }
   ],
   "source": [
    "5*1e9*tc"
   ]
  },
  {
   "cell_type": "code",
   "execution_count": 11,
   "metadata": {},
   "outputs": [
    {
     "data": {
      "text/plain": [
       "10000.0"
      ]
     },
     "execution_count": 11,
     "metadata": {},
     "output_type": "execute_result"
    }
   ],
   "source": [
    "t = 1 *1e-6\n",
    "n = 50\n",
    "tc = 5*t/n\n",
    "1/tc /1e3"
   ]
  },
  {
   "cell_type": "code",
   "execution_count": 177,
   "metadata": {},
   "outputs": [
    {
     "data": {
      "image/png": "[encoded data removed]",
      "text/plain": [
       "<Figure size 590.551x590.551 with 8 Axes>"
      ]
     },
     "metadata": {},
     "output_type": "display_data"
    }
   ],
   "source": [
    "fig,axs = plt.subplots(2,2,figsize=set_size(subplots=(2,2)),sharey=True)\n",
    "nset=0\n",
    "j=3\n",
    "axr00 = axs[0,0].twinx()\n",
    "axs[0,0].plot(T,np.mean(fids13W[nset],axis=1),c=\"black\",lw=1)\n",
    "#axr00.plot(T[1:],np.abs(np.mean(otoFl13W[nset],axis=2)-np.mean(ototrue13W[nset],axis=2))[1:,j]/np.mean(ototrue13W[nset],axis=2)[1:,j]*100,lw=1)\n",
    "axr00.plot(T,np.mean(otoFl13W[nset],axis=2)[:,j],lw=1)\n",
    "axr00.plot(T,np.mean(ototrue13W[nset],axis=2)[:,j],lw=1)\n",
    "\n",
    "\n",
    "axr01 = axs[0,1].twinx()\n",
    "axs[0,1].plot(T,np.mean(fids13R[nset],axis=1),c=\"black\",lw=1)\n",
    "#axr01.plot(T[1:],np.abs(np.mean(otoFl13R[nset],axis=2)-np.mean(ototrue13R[nset],axis=2))[1:,j]/np.mean(ototrue13R[nset],axis=2)[1:,j]*100,lw=1)\n",
    "axr01.plot(T,np.mean(otoFl13R[nset],axis=2)[:,j],lw=1)\n",
    "axr01.plot(T,np.mean(ototrue13R[nset],axis=2)[:,j],lw=1)\n",
    "\n",
    "axr10 = axs[1,0].twinx()\n",
    "axs[1,0].plot(T,np.mean(fids13WCS[nset],axis=1),c=\"black\",lw=1)\n",
    "#axr10.plot(T[1:],np.abs(np.mean(otoFl13WCS[nset],axis=2)-np.mean(ototrue13WCS[nset],axis=2))[1:,j]/np.mean(ototrue13WCS[nset],axis=2)[1:,j]*100,lw=1)\n",
    "axr10.plot(T,np.mean(otoFl13WCS[nset],axis=2)[:,j],lw=1)\n",
    "axr10.plot(T,np.mean(ototrue13WCS[nset],axis=2)[:,j],lw=1)\n",
    "\n",
    "axr11 = axs[1,1].twinx()\n",
    "axs[1,1].plot(T,np.mean(fids13RCS[nset],axis=1),c=\"black\",lw=1)\n",
    "#axr11.plot(T[1:],np.abs(np.mean(otoFl13RCS[nset],axis=2)-np.mean(ototrue13RCS[nset],axis=2))[1:,j]/np.mean(ototrue13RCS[nset],axis=2)[1:,j]*100,lw=1)\n",
    "axr11.plot(T,np.mean(otoFl13RCS[nset],axis=2)[:,j],lw=1)\n",
    "axr11.plot(T,np.mean(ototrue13RCS[nset],axis=2)[:,j],lw=1)\n",
    "\n",
    "plt.subplots_adjust(wspace=0.5)\n",
    "plt.show()"
   ]
  },
  {
   "cell_type": "code",
   "execution_count": 87,
   "metadata": {},
   "outputs": [
    {
     "data": {
      "text/plain": [
       "(200, 50)"
      ]
     },
     "execution_count": 87,
     "metadata": {},
     "output_type": "execute_result"
    }
   ],
   "source": [
    "fids11R[0].shape"
   ]
  },
  {
   "cell_type": "code",
   "execution_count": 37,
   "metadata": {},
   "outputs": [],
   "source": [
    "fidmin = 0.2\n",
    "Tmaxs11 = np.zeros((Njs[0],Nstates11))\n",
    "for j in range(Njs[0]):\n",
    "    for s in range(Nstates11):\n",
    "        Tmaxs11[j,s]=T[np.argmin(np.abs(fids11[j][:,s]-fidmin))]\n",
    "\n",
    "Tmaxmean = np.mean(Tmaxs11,axis=1)\n",
    "Tmaxstd = np.std(Tmaxs11,axis=1)"
   ]
  },
  {
   "cell_type": "code",
   "execution_count": 38,
   "metadata": {},
   "outputs": [
    {
     "data": {
      "text/plain": [
       "<ErrorbarContainer object of 3 artists>"
      ]
     },
     "execution_count": 38,
     "metadata": {},
     "output_type": "execute_result"
    },
    {
     "data": {
      "image/png": "[encoded data removed]",
      "text/plain": [
       "<Figure size 588x588 with 1 Axes>"
      ]
     },
     "metadata": {},
     "output_type": "display_data"
    }
   ],
   "source": [
    "plt.errorbar(ns,Tmaxmean,yerr=Tmaxstd)"
   ]
  },
  {
   "cell_type": "code",
   "execution_count": null,
   "metadata": {},
   "outputs": [
    {
     "ename": "",
     "evalue": "",
     "output_type": "error",
     "traceback": [
      "\u001b[1;31mnotebook controller is DISPOSED. \n",
      "\u001b[1;31mView Jupyter <a href='command:jupyter.viewOutput'>log</a> for further details."
     ]
    },
    {
     "ename": "",
     "evalue": "",
     "output_type": "error",
     "traceback": [
      "\u001b[1;31mnotebook controller is DISPOSED. \n",
      "\u001b[1;31mView Jupyter <a href='command:jupyter.viewOutput'>log</a> for further details."
     ]
    }
   ],
   "source": []
  },
  {
   "cell_type": "code",
   "execution_count": null,
   "metadata": {},
   "outputs": [],
   "source": []
  }
 ],
 "metadata": {
  "kernelspec": {
   "display_name": "max1",
   "language": "python",
   "name": "python3"
  },
  "language_info": {
   "codemirror_mode": {
    "name": "ipython",
    "version": 3
   },
   "file_extension": ".py",
   "mimetype": "text/x-python",
   "name": "python",
   "nbconvert_exporter": "python",
   "pygments_lexer": "ipython3",
   "version": "3.8.10 (default, Nov 14 2022, 12:59:47) \n[GCC 9.4.0]"
  },
  "orig_nbformat": 4,
  "vscode": {
   "interpreter": {
    "hash": "fc74d5b34fbb35dd1e61e1426654be3784a79a42d5a6bdb3df2cd53d5ca06bd5"
   }
  }
 },
 "nbformat": 4,
 "nbformat_minor": 2
}
