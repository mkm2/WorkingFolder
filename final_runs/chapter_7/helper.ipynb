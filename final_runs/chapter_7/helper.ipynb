{
 "cells": [
  {
   "cell_type": "code",
   "execution_count": 18,
   "metadata": {},
   "outputs": [],
   "source": [
    "import numpy as np\n",
    "import matplotlib.pyplot as plt\n",
    "import matplotlib.cm as mplcm\n",
    "import matplotlib.gridspec as gridspec\n",
    "import matplotlib.colors as colors\n",
    "import matplotlib.lines as mlines\n",
    "from scipy.optimize import curve_fit\n",
    "from scipy.stats import sem\n",
    "import h5py\n",
    "from pathlib import Path\n",
    "from collections.abc import Iterable\n",
    "from matplotlib.colors import LogNorm\n",
    "from os import listdir\n",
    "import os"
   ]
  },
  {
   "cell_type": "code",
   "execution_count": 3,
   "metadata": {},
   "outputs": [],
   "source": [
    "datapath = Path.cwd() / \"data/disorder_scaling\""
   ]
  },
  {
   "cell_type": "code",
   "execution_count": 4,
   "metadata": {},
   "outputs": [],
   "source": [
    "folders = [datapath/\"h = 3/Rhim\",datapath/\"h = 3/Rhim_FR\",datapath/\"h = 3/WAHUHA\",datapath/\"h = 3/WAHUHA_FR\",\n",
    "            datapath/\"h = 6/Rhim\",datapath/\"h = 6/Rhim_FR\",datapath/\"h = 6/WAHUHA\",datapath/\"h = 6/WAHUHA_FR\",\n",
    "            datapath/\"h = 9/Rhim\",datapath/\"h = 9/Rhim_FR\",datapath/\"h = 9/WAHUHA\",datapath/\"h = 9/WAHUHA_FR\",\n",
    "            datapath/\"h = 12/Rhim\",datapath/\"h = 12/Rhim_FR\",datapath/\"h = 12/WAHUHA\",datapath/\"h = 12/WAHUHA_FR\"]"
   ]
  },
  {
   "cell_type": "code",
   "execution_count": 36,
   "metadata": {},
   "outputs": [],
   "source": [
    "for i in range(len(folders)):\n",
    "    for file in listdir(folders[i]):\n",
    "        if \".jld2\" not in file:\n",
    "            if os.path.isfile(folders[i]/file)==True:\n",
    "                try:\n",
    "                    with open(folders[i]/file,\"r\") as f:\n",
    "                        lines = f.readlines()\n",
    "                        for line in lines:\n",
    "                            if line[0:4] == r\"ARGS\":\n",
    "                                n = (int(line.split(\",\")[-2].replace(\"\\\"\",\"\")))\n",
    "                except:\n",
    "                    print(file)\n",
    "                num = file.split(\"-\")[-1].replace(\".out\",\"\")\n",
    "                os.rename(folders[i]/file, folders[i]/\"n = {}/{}\".format(n,file))\n",
    "                os.rename(folders[i]/\"{}_N11_BS.jld2\".format(num),folders[i]/\"n = {}/{}\".format(n,\"{}_N11_BS.jld2\".format(num)))"
   ]
  },
  {
   "cell_type": "code",
   "execution_count": null,
   "metadata": {},
   "outputs": [],
   "source": []
  }
 ],
 "metadata": {
  "kernelspec": {
   "display_name": "max1",
   "language": "python",
   "name": "python3"
  },
  "language_info": {
   "codemirror_mode": {
    "name": "ipython",
    "version": 3
   },
   "file_extension": ".py",
   "mimetype": "text/x-python",
   "name": "python",
   "nbconvert_exporter": "python",
   "pygments_lexer": "ipython3",
   "version": "3.8.10 (default, Nov 14 2022, 12:59:47) \n[GCC 9.4.0]"
  },
  "orig_nbformat": 4,
  "vscode": {
   "interpreter": {
    "hash": "fc74d5b34fbb35dd1e61e1426654be3784a79a42d5a6bdb3df2cd53d5ca06bd5"
   }
  }
 },
 "nbformat": 4,
 "nbformat_minor": 2
}
