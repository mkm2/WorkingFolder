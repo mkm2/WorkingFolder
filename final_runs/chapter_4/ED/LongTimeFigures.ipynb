{
 "cells": [
  {
   "cell_type": "code",
   "execution_count": null,
   "metadata": {},
   "outputs": [],
   "source": []
  }
 ],
 "metadata": {
  "kernelspec": {
   "display_name": "Python 3.8.10 ('max1')",
   "language": "python",
   "name": "python3"
  },
  "language_info": {
   "name": "python",
   "version": "3.8.10"
  },
  "orig_nbformat": 4,
  "vscode": {
   "interpreter": {
    "hash": "fc74d5b34fbb35dd1e61e1426654be3784a79a42d5a6bdb3df2cd53d5ca06bd5"
   }
  }
 },
 "nbformat": 4,
 "nbformat_minor": 2
}
